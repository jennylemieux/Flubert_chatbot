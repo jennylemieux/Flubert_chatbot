{
 "cells": [
  {
   "cell_type": "markdown",
   "metadata": {},
   "source": [
    "# Process Handbook"
   ]
  },
  {
   "cell_type": "markdown",
   "metadata": {},
   "source": [
    "This notebook processes answers related to questions about COVID-19 and pregnancy from a CSV (Flubert_pregnancy_answers.csv).  This is done in a simple fashion using the following heuristic: If a line of text consisting of less than 5 words is followed by paragraphs of text the assume the line of text with less than 5 words is a topic (i.e. the topic of a question an employee might ask) and that the paragraphs of text are the answer to that question (called action_text for the lack of a better term).\n",
    "\n",
    "When a topic and action_text are found these are stored in Cloud Datastore as a key-value pair with the topic as the key and the action_text as the value."
   ]
  },
  {
   "cell_type": "code",
   "execution_count": 1,
   "metadata": {},
   "outputs": [
    {
     "name": "stdout",
     "output_type": "stream",
     "text": [
      "Uninstalling google-cloud-datastore-1.12.0:\r\n",
      "  Successfully uninstalled google-cloud-datastore-1.12.0\r\n"
     ]
    }
   ],
   "source": [
    "!pip uninstall -y google-cloud-datastore"
   ]
  },
  {
   "cell_type": "code",
   "execution_count": 2,
   "metadata": {},
   "outputs": [
    {
     "name": "stdout",
     "output_type": "stream",
     "text": [
      "Collecting google-cloud-datastore\n",
      "  Using cached https://files.pythonhosted.org/packages/27/e9/1132b0e4dce7d96df7620ce7c465bd99803cc62a467396ea93fee3a82931/google_cloud_datastore-1.12.0-py2.py3-none-any.whl\n",
      "Requirement already satisfied: google-cloud-core<2.0dev,>=1.0.3 in /usr/local/envs/py3env/lib/python3.5/site-packages (from google-cloud-datastore) (1.3.0)\n",
      "Requirement already satisfied: google-api-core[grpc]<2.0.0dev,>=1.14.0 in /usr/local/envs/py3env/lib/python3.5/site-packages (from google-cloud-datastore) (1.21.0)\n",
      "Requirement already satisfied: setuptools>=34.0.0 in /usr/local/envs/py3env/lib/python3.5/site-packages (from google-api-core[grpc]<2.0.0dev,>=1.14.0->google-cloud-datastore) (40.2.0)\n",
      "Requirement already satisfied: six>=1.10.0 in /usr/local/envs/py3env/lib/python3.5/site-packages (from google-api-core[grpc]<2.0.0dev,>=1.14.0->google-cloud-datastore) (1.10.0)\n",
      "Requirement already satisfied: googleapis-common-protos<2.0dev,>=1.6.0 in /usr/local/envs/py3env/lib/python3.5/site-packages (from google-api-core[grpc]<2.0.0dev,>=1.14.0->google-cloud-datastore) (1.52.0)\n",
      "Requirement already satisfied: requests<3.0.0dev,>=2.18.0 in /usr/local/envs/py3env/lib/python3.5/site-packages (from google-api-core[grpc]<2.0.0dev,>=1.14.0->google-cloud-datastore) (2.18.4)\n",
      "Requirement already satisfied: protobuf>=3.12.0 in /usr/local/envs/py3env/lib/python3.5/site-packages (from google-api-core[grpc]<2.0.0dev,>=1.14.0->google-cloud-datastore) (3.12.2)\n",
      "Requirement already satisfied: google-auth<2.0dev,>=1.18.0 in /usr/local/envs/py3env/lib/python3.5/site-packages (from google-api-core[grpc]<2.0.0dev,>=1.14.0->google-cloud-datastore) (1.18.0)\n",
      "Requirement already satisfied: pytz in /usr/local/envs/py3env/lib/python3.5/site-packages (from google-api-core[grpc]<2.0.0dev,>=1.14.0->google-cloud-datastore) (2018.4)\n",
      "Requirement already satisfied: grpcio<2.0dev,>=1.29.0; extra == \"grpc\" in /usr/local/envs/py3env/lib/python3.5/site-packages (from google-api-core[grpc]<2.0.0dev,>=1.14.0->google-cloud-datastore) (1.30.0)\n",
      "Requirement already satisfied: chardet<3.1.0,>=3.0.2 in /usr/local/envs/py3env/lib/python3.5/site-packages (from requests<3.0.0dev,>=2.18.0->google-api-core[grpc]<2.0.0dev,>=1.14.0->google-cloud-datastore) (3.0.4)\n",
      "Requirement already satisfied: idna<2.7,>=2.5 in /usr/local/envs/py3env/lib/python3.5/site-packages (from requests<3.0.0dev,>=2.18.0->google-api-core[grpc]<2.0.0dev,>=1.14.0->google-cloud-datastore) (2.6)\n",
      "Requirement already satisfied: urllib3<1.23,>=1.21.1 in /usr/local/envs/py3env/lib/python3.5/site-packages (from requests<3.0.0dev,>=2.18.0->google-api-core[grpc]<2.0.0dev,>=1.14.0->google-cloud-datastore) (1.22)\n",
      "Requirement already satisfied: certifi>=2017.4.17 in /usr/local/envs/py3env/lib/python3.5/site-packages (from requests<3.0.0dev,>=2.18.0->google-api-core[grpc]<2.0.0dev,>=1.14.0->google-cloud-datastore) (2018.8.24)\n",
      "Requirement already satisfied: cachetools<5.0,>=2.0.0 in /usr/local/envs/py3env/lib/python3.5/site-packages (from google-auth<2.0dev,>=1.18.0->google-api-core[grpc]<2.0.0dev,>=1.14.0->google-cloud-datastore) (2.1.0)\n",
      "Requirement already satisfied: pyasn1-modules>=0.2.1 in /usr/local/envs/py3env/lib/python3.5/site-packages (from google-auth<2.0dev,>=1.18.0->google-api-core[grpc]<2.0.0dev,>=1.14.0->google-cloud-datastore) (0.2.2)\n",
      "Requirement already satisfied: rsa<5,>=3.1.4; python_version >= \"3\" in /usr/local/envs/py3env/lib/python3.5/site-packages (from google-auth<2.0dev,>=1.18.0->google-api-core[grpc]<2.0.0dev,>=1.14.0->google-cloud-datastore) (3.4.2)\n",
      "Requirement already satisfied: pyasn1<0.5.0,>=0.4.1 in /usr/local/envs/py3env/lib/python3.5/site-packages (from pyasn1-modules>=0.2.1->google-auth<2.0dev,>=1.18.0->google-api-core[grpc]<2.0.0dev,>=1.14.0->google-cloud-datastore) (0.4.5)\n",
      "Installing collected packages: google-cloud-datastore\n",
      "Successfully installed google-cloud-datastore-1.12.0\n"
     ]
    }
   ],
   "source": [
    "!pip install google-cloud-datastore"
   ]
  },
  {
   "cell_type": "markdown",
   "metadata": {},
   "source": [
    "Hit Reset Session > Restart, then resume with the following cells. "
   ]
  },
  {
   "cell_type": "code",
   "execution_count": 1,
   "metadata": {},
   "outputs": [],
   "source": [
    "from google.cloud import datastore"
   ]
  },
  {
   "cell_type": "code",
   "execution_count": 2,
   "metadata": {},
   "outputs": [],
   "source": [
    "datastore_client = datastore.Client()"
   ]
  },
  {
   "cell_type": "code",
   "execution_count": null,
   "metadata": {},
   "outputs": [
    {
     "name": "stdout",
     "output_type": "stream",
     "text": [
      "Collecting package metadata: done\n",
      "Solving environment: done\n",
      "\n",
      "## Package Plan ##\n",
      "\n",
      "  environment location: /usr/local\n",
      "\n",
      "  added / updated specs:\n",
      "    - conda\n",
      "\n",
      "\n",
      "The following packages will be downloaded:\n",
      "\n",
      "    package                    |            build\n",
      "    ---------------------------|-----------------\n",
      "    conda-4.8.3                |           py27_0         3.0 MB  defaults\n",
      "    conda-package-handling-1.6.0|   py27h7b6447c_0         865 KB  defaults\n",
      "    openssl-1.1.1g             |       h7b6447c_0         3.8 MB  defaults\n",
      "    tqdm-4.47.0                |             py_0          62 KB  defaults\n",
      "    ------------------------------------------------------------\n",
      "                                           Total:         7.7 MB\n",
      "\n",
      "The following NEW packages will be INSTALLED:\n",
      "\n",
      "  _libgcc_mutex      pkgs/main/linux-64::_libgcc_mutex-0.1-main\n",
      "  conda-package-han~ pkgs/main/linux-64::conda-package-handling-1.6.0-py27h7b6447c_0\n",
      "  tqdm               pkgs/main/noarch::tqdm-4.47.0-py_0\n",
      "\n",
      "The following packages will be UPDATED:\n",
      "\n",
      "  ca-certificates                               2019.5.15-0 --> 2020.6.24-0\n",
      "  certifi                                   2019.3.9-py27_0 --> 2019.11.28-py27_0\n",
      "  conda                                       4.6.14-py27_0 --> 4.8.3-py27_0\n",
      "  openssl                                 1.1.1c-h7b6447c_1 --> 1.1.1g-h7b6447c_0\n",
      "\n",
      "\n",
      "Proceed ([y]/n)? "
     ]
    }
   ],
   "source": [
    "#!conda update -n base -c defaults conda"
   ]
  },
  {
   "cell_type": "code",
   "execution_count": null,
   "metadata": {},
   "outputs": [],
   "source": [
    "#y"
   ]
  },
  {
   "cell_type": "code",
   "execution_count": null,
   "metadata": {},
   "outputs": [],
   "source": [
    "#!conda install -y pandas\n",
    "#!conda install -y scikit-learn"
   ]
  },
  {
   "cell_type": "code",
   "execution_count": 3,
   "metadata": {},
   "outputs": [],
   "source": [
    "import pandas as pd"
   ]
  },
  {
   "cell_type": "code",
   "execution_count": 4,
   "metadata": {},
   "outputs": [],
   "source": [
    "p_content = pd.read_csv('Flubert_pregnancy_answers_UTF8.csv')\n",
    "#pregnancy_topics = open('Flubert_pregnancy_answers.csv', 'r')\n"
   ]
  },
  {
   "cell_type": "code",
   "execution_count": 5,
   "metadata": {},
   "outputs": [
    {
     "data": {
      "text/html": [
       "<div>\n",
       "<style scoped>\n",
       "    .dataframe tbody tr th:only-of-type {\n",
       "        vertical-align: middle;\n",
       "    }\n",
       "\n",
       "    .dataframe tbody tr th {\n",
       "        vertical-align: top;\n",
       "    }\n",
       "\n",
       "    .dataframe thead th {\n",
       "        text-align: right;\n",
       "    }\n",
       "</style>\n",
       "<table border=\"1\" class=\"dataframe\">\n",
       "  <thead>\n",
       "    <tr style=\"text-align: right;\">\n",
       "      <th></th>\n",
       "      <th>Question</th>\n",
       "      <th>Answer</th>\n",
       "    </tr>\n",
       "  </thead>\n",
       "  <tbody>\n",
       "    <tr>\n",
       "      <th>0</th>\n",
       "      <td>What can I do to protect myself from catching ...</td>\n",
       "      <td>To protect yourself from catching coronavirus,...</td>\n",
       "    </tr>\n",
       "    <tr>\n",
       "      <th>1</th>\n",
       "      <td>Can I travel for my baby-moon?</td>\n",
       "      <td>We recommend avoiding all travel at this time,...</td>\n",
       "    </tr>\n",
       "    <tr>\n",
       "      <th>2</th>\n",
       "      <td>Should I reschedule my baby shower because of ...</td>\n",
       "      <td>While a baby shower is a joyous and important ...</td>\n",
       "    </tr>\n",
       "    <tr>\n",
       "      <th>3</th>\n",
       "      <td>What should I do if I have a fever or cough?</td>\n",
       "      <td>If you have a fever or cough, the first step i...</td>\n",
       "    </tr>\n",
       "    <tr>\n",
       "      <th>4</th>\n",
       "      <td>What if I’ve traveled from a place where the v...</td>\n",
       "      <td>The first step is to call your doctor’s office...</td>\n",
       "    </tr>\n",
       "  </tbody>\n",
       "</table>\n",
       "</div>"
      ],
      "text/plain": [
       "                                            Question  \\\n",
       "0  What can I do to protect myself from catching ...   \n",
       "1                     Can I travel for my baby-moon?   \n",
       "2  Should I reschedule my baby shower because of ...   \n",
       "3      What should I do if I have a fever or cough?    \n",
       "4  What if I’ve traveled from a place where the v...   \n",
       "\n",
       "                                              Answer  \n",
       "0  To protect yourself from catching coronavirus,...  \n",
       "1  We recommend avoiding all travel at this time,...  \n",
       "2  While a baby shower is a joyous and important ...  \n",
       "3  If you have a fever or cough, the first step i...  \n",
       "4  The first step is to call your doctor’s office...  "
      ]
     },
     "execution_count": 5,
     "metadata": {},
     "output_type": "execute_result"
    }
   ],
   "source": [
    "p_content.head()"
   ]
  },
  {
   "cell_type": "code",
   "execution_count": 6,
   "metadata": {},
   "outputs": [],
   "source": [
    "p_content.dropna(inplace=True)"
   ]
  },
  {
   "cell_type": "code",
   "execution_count": 7,
   "metadata": {},
   "outputs": [
    {
     "data": {
      "text/plain": [
       "19"
      ]
     },
     "execution_count": 7,
     "metadata": {},
     "output_type": "execute_result"
    }
   ],
   "source": [
    "#to see how many articles\n",
    "len(p_content)"
   ]
  },
  {
   "cell_type": "code",
   "execution_count": 8,
   "metadata": {},
   "outputs": [
    {
     "name": "stdout",
     "output_type": "stream",
     "text": [
      "Miscarriage can occur in any pregnancy. Studies have not been done to see if having COVID-19 during pregnancy could increase the chance of miscarriage.\n"
     ]
    }
   ],
   "source": [
    "#to see article, index row\n",
    "print(p_content['Answer'][17])"
   ]
  },
  {
   "cell_type": "code",
   "execution_count": 9,
   "metadata": {},
   "outputs": [],
   "source": [
    "#Before LDA need to preprocess data"
   ]
  },
  {
   "cell_type": "code",
   "execution_count": 10,
   "metadata": {},
   "outputs": [],
   "source": [
    "from sklearn.feature_extraction.text import CountVectorizer"
   ]
  },
  {
   "cell_type": "code",
   "execution_count": 11,
   "metadata": {},
   "outputs": [],
   "source": [
    "cv = CountVectorizer(max_df=0.8, min_df=1, stop_words='english') #max_df ignores terms with high document freq (really common, e.g. show up in 90% of docs)\n",
    "\n",
    "#can do max and min df either as proportion, or integer for actual number of docs\n",
    "#countvectorizer can also remove stopwords"
   ]
  },
  {
   "cell_type": "code",
   "execution_count": 12,
   "metadata": {},
   "outputs": [],
   "source": [
    "#create a document term matrix using the Answers\n",
    "dtm = cv.fit_transform(p_content['Answer'])"
   ]
  },
  {
   "cell_type": "code",
   "execution_count": 13,
   "metadata": {},
   "outputs": [],
   "source": [
    "#get dimensions of dtm and confirm is a sparse matrix"
   ]
  },
  {
   "cell_type": "code",
   "execution_count": 14,
   "metadata": {},
   "outputs": [
    {
     "data": {
      "text/plain": [
       "<19x386 sparse matrix of type '<class 'numpy.int64'>'\n",
       "\twith 625 stored elements in Compressed Sparse Row format>"
      ]
     },
     "execution_count": 14,
     "metadata": {},
     "output_type": "execute_result"
    }
   ],
   "source": [
    "dtm "
   ]
  },
  {
   "cell_type": "code",
   "execution_count": 15,
   "metadata": {},
   "outputs": [],
   "source": [
    "#got 386 terms in the 19 articles"
   ]
  },
  {
   "cell_type": "code",
   "execution_count": 16,
   "metadata": {},
   "outputs": [],
   "source": [
    "from sklearn.decomposition import LatentDirichletAllocation"
   ]
  },
  {
   "cell_type": "code",
   "execution_count": 38,
   "metadata": {},
   "outputs": [],
   "source": [
    "LDA = LatentDirichletAllocation(n_components=8, random_state=42)"
   ]
  },
  {
   "cell_type": "code",
   "execution_count": 39,
   "metadata": {},
   "outputs": [
    {
     "name": "stderr",
     "output_type": "stream",
     "text": [
      "/usr/local/envs/py3env/lib/python3.5/site-packages/sklearn/decomposition/online_lda.py:536: DeprecationWarning: The default value for 'learning_method' will be changed from 'online' to 'batch' in the release 0.20. This warning was introduced in 0.18.\n",
      "  DeprecationWarning)\n"
     ]
    },
    {
     "data": {
      "text/plain": [
       "LatentDirichletAllocation(batch_size=128, doc_topic_prior=None,\n",
       "             evaluate_every=-1, learning_decay=0.7, learning_method=None,\n",
       "             learning_offset=10.0, max_doc_update_iter=100, max_iter=10,\n",
       "             mean_change_tol=0.001, n_components=8, n_jobs=1,\n",
       "             n_topics=None, perp_tol=0.1, random_state=42,\n",
       "             topic_word_prior=None, total_samples=1000000.0, verbose=0)"
      ]
     },
     "execution_count": 39,
     "metadata": {},
     "output_type": "execute_result"
    }
   ],
   "source": [
    "LDA.fit(dtm)"
   ]
  },
  {
   "cell_type": "code",
   "execution_count": 40,
   "metadata": {},
   "outputs": [
    {
     "data": {
      "text/plain": [
       "386"
      ]
     },
     "execution_count": 40,
     "metadata": {},
     "output_type": "execute_result"
    }
   ],
   "source": [
    "# Grab vocab of words\n",
    "len(cv.get_feature_names())"
   ]
  },
  {
   "cell_type": "code",
   "execution_count": 41,
   "metadata": {},
   "outputs": [
    {
     "data": {
      "text/plain": [
       "list"
      ]
     },
     "execution_count": 41,
     "metadata": {},
     "output_type": "execute_result"
    }
   ],
   "source": [
    "type(cv.get_feature_names())"
   ]
  },
  {
   "cell_type": "code",
   "execution_count": 42,
   "metadata": {},
   "outputs": [
    {
     "data": {
      "text/plain": [
       "'small'"
      ]
     },
     "execution_count": 42,
     "metadata": {},
     "output_type": "execute_result"
    }
   ],
   "source": [
    "# getting words at index locations\n",
    "cv.get_feature_names()[317]"
   ]
  },
  {
   "cell_type": "code",
   "execution_count": 43,
   "metadata": {},
   "outputs": [
    {
     "data": {
      "text/plain": [
       "'mothers'"
      ]
     },
     "execution_count": 43,
     "metadata": {},
     "output_type": "execute_result"
    }
   ],
   "source": [
    "# to print out a list of a random bunch of words from the list\n",
    "\n",
    "import random\n",
    "\n",
    "random_word_id = random.randint(0, 386)\n",
    "cv.get_feature_names()[random_word_id] #generates a random index number"
   ]
  },
  {
   "cell_type": "code",
   "execution_count": 44,
   "metadata": {},
   "outputs": [
    {
     "data": {
      "text/plain": [
       "8"
      ]
     },
     "execution_count": 44,
     "metadata": {},
     "output_type": "execute_result"
    }
   ],
   "source": [
    "# Grab the topics\n",
    "len(LDA.components_)"
   ]
  },
  {
   "cell_type": "code",
   "execution_count": 45,
   "metadata": {},
   "outputs": [
    {
     "data": {
      "text/plain": [
       "(8, 386)"
      ]
     },
     "execution_count": 45,
     "metadata": {},
     "output_type": "execute_result"
    }
   ],
   "source": [
    "LDA.components_.shape # componenents by number of words"
   ]
  },
  {
   "cell_type": "code",
   "execution_count": 46,
   "metadata": {},
   "outputs": [],
   "source": [
    "single_topic = LDA.components_[0]"
   ]
  },
  {
   "cell_type": "code",
   "execution_count": 47,
   "metadata": {},
   "outputs": [
    {
     "data": {
      "text/plain": [
       "array([158, 376, 337, 224, 260, 332, 142, 135,   9, 354, 253, 234,  66,\n",
       "       313, 371,  78, 244, 117, 310, 375, 338, 204, 163, 161, 285, 258,\n",
       "        60, 205,  75, 296,  86, 278, 257, 230, 373, 372, 150, 119, 169,\n",
       "        85,  22, 123, 381, 287,  21, 292, 269, 159,  10, 370, 333, 357,\n",
       "       364, 164, 349, 283, 110, 351,  80,  19, 303, 228, 120, 291, 109,\n",
       "       343, 116,  36,  76, 178, 213,  98, 190, 223, 263, 267, 144, 360,\n",
       "        82, 132, 284, 103, 195, 206, 155,  56, 272,  92,  32, 301, 308,\n",
       "       221, 149, 314, 141, 298, 286,  43, 173, 323,  16, 174, 304, 277,\n",
       "        95,  77, 199, 179, 138,  14, 276, 225, 363, 347, 201, 299, 345,\n",
       "       148, 136, 202,   6, 233,  28, 342, 240, 317,  50, 369,  61, 327,\n",
       "       167,  31,  51,  38, 266,  57, 331,  83,  37,  27,  47,  17, 348,\n",
       "       254, 374, 302, 133,   2, 275,  48, 207, 321,  70, 293,  39,  62,\n",
       "       209, 325, 211, 170, 197, 385,   1, 189, 282, 365,  26, 145, 236,\n",
       "       274, 214, 268,   3, 261, 104,  65, 115, 112,  13, 377,  44,  67,\n",
       "       180, 210, 102, 194, 329, 238, 217, 106, 334, 187, 218, 271, 140,\n",
       "       239, 311, 300, 366, 122, 383,  68,  79, 166, 324,  46,  54, 306,\n",
       "       358,  15, 247, 259,  18,  25, 264,  87, 143, 315,  23, 384, 273,\n",
       "       118, 344,   8, 200,  64,  59, 356, 172, 242,  58,  71, 177, 281,\n",
       "        11, 212, 188,  53, 290, 326, 105, 226, 203,  49, 262,  93, 322,\n",
       "       216, 215,  63, 101, 352, 181, 380, 156, 121, 165, 183, 361, 114,\n",
       "        97,  94, 111,  42, 229, 219,  30, 146, 127, 243, 128, 126,  90,\n",
       "       318,   7, 328, 198, 309, 280, 320, 171,  91,  33, 241, 108, 340,\n",
       "       312, 250, 368, 131, 297, 113, 255, 359,  24, 307,  73,   5, 157,\n",
       "        89,  99, 193,  40, 185,  84, 336, 147, 330, 176,  52, 151, 139,\n",
       "       294, 350,  20, 130, 265, 100,  55, 196, 184, 208, 316, 175, 289,\n",
       "       153, 346, 125,  29, 252,  88, 305, 124, 137,  35,  72, 339, 192,\n",
       "       237, 367, 154, 245, 379, 186,  34, 232, 235, 279, 251,  74, 162,\n",
       "       319, 107,  12, 355, 182,  41,  81, 246,  45, 168, 362,   0, 256,\n",
       "       160, 335, 249, 231, 378, 288,  96, 295,   4, 270, 353, 191, 152,\n",
       "       222, 220, 134, 248,  69, 382, 227, 341, 129])"
      ]
     },
     "execution_count": 47,
     "metadata": {},
     "output_type": "execute_result"
    }
   ],
   "source": [
    "single_topic.argsort() #don't know what topic represents, argsort returns index positions that would sort this array"
   ]
  },
  {
   "cell_type": "code",
   "execution_count": 48,
   "metadata": {},
   "outputs": [
    {
     "data": {
      "text/plain": [
       "array([152, 222, 220, 134, 248,  69, 382, 227, 341, 129])"
      ]
     },
     "execution_count": 48,
     "metadata": {},
     "output_type": "execute_result"
    }
   ],
   "source": [
    "single_topic.argsort()[-10:] \n",
    "#grabs top 10 words (highest counts)  grabs last 10 values of argsort.  returns index positions\n",
    "# Top 10 values --> last 10 values of argsort"
   ]
  },
  {
   "cell_type": "code",
   "execution_count": 49,
   "metadata": {},
   "outputs": [
    {
     "name": "stdout",
     "output_type": "stream",
     "text": [
      "gynecologists\n",
      "mothertobaby\n",
      "mother\n",
      "feed\n",
      "passing\n",
      "college\n",
      "workers\n",
      "newborns\n",
      "tested\n",
      "eyes\n"
     ]
    }
   ],
   "source": [
    "top_ten_words = single_topic.argsort()[-10:]\n",
    "\n",
    "for index in top_ten_words:\n",
    "    print(cv.get_feature_names()[index]) #10 highest proba words in first topic"
   ]
  },
  {
   "cell_type": "code",
   "execution_count": 50,
   "metadata": {},
   "outputs": [
    {
     "name": "stdout",
     "output_type": "stream",
     "text": [
      "paternal\n",
      "novel\n",
      "woman\n",
      "report\n",
      "determine\n",
      "restrict\n",
      "38\n",
      "proper\n",
      "trimester\n",
      "just\n",
      "gynecologists\n",
      "mothertobaby\n",
      "mother\n",
      "feed\n",
      "passing\n",
      "college\n",
      "workers\n",
      "newborns\n",
      "tested\n",
      "eyes\n"
     ]
    }
   ],
   "source": [
    "top_twenty_words = single_topic.argsort()[-20:]\n",
    "for index in top_twenty_words:\n",
    "    print(cv.get_feature_names()[index]) #20 highest proba words in first topic"
   ]
  },
  {
   "cell_type": "code",
   "execution_count": 30,
   "metadata": {},
   "outputs": [
    {
     "name": "stdout",
     "output_type": "stream",
     "text": [
      "we love SPAM\n"
     ]
    }
   ],
   "source": [
    "def f(string):\n",
    "    # (!) Using globals is bad bad bad\n",
    "    return string.format(**globals())\n",
    "\n",
    "# Use as follows:\n",
    "ans = 'SPAM'\n",
    "print(f('we love {ans}'))"
   ]
  },
  {
   "cell_type": "code",
   "execution_count": 51,
   "metadata": {},
   "outputs": [
    {
     "name": "stdout",
     "output_type": "stream",
     "text": [
      "The top 20 words for Topic 0\n",
      "['paternal', 'novel', 'woman', 'report', 'determine', 'restrict', '38', 'proper', 'trimester', 'just', 'gynecologists', 'mothertobaby', 'mother', 'feed', 'passing', 'college', 'workers', 'newborns', 'tested', 'eyes']\n",
      "\n",
      "\n",
      "\n",
      "\n",
      "The top 20 words for Topic 1\n",
      "['exposed', 'trying', 'emergencies', 'people', 'currently', 'present', 'physician', 'covid', '19', 'minimize', 'obstetrics', 'contingency', 'ask', 'health', 'obstetric', 'birth', 'plans', 'staff', 'team', 'hospital']\n",
      "\n",
      "\n",
      "\n",
      "\n",
      "The top 20 words for Topic 2\n",
      "['cov', 'disease', 'care', 'time', 'birth', 'sars', 'tested', 'study', 'case', 'travel', 'evidence', 'newborns', 'risk', 'infection', 'virus', 'infected', 'pregnant', 'women', '19', 'covid']\n",
      "\n",
      "\n",
      "\n",
      "\n",
      "The top 20 words for Topic 3\n",
      "['obstetricians', 'step', 'health', 'exposure', 'help', 'pregnant', 'mask', 'spread', 'protect', 'obstetrician', 'office', 'pregnancy', 'limit', 'vaccines', 'important', 'doctor', 'virus', 'symptoms', '19', 'covid']\n",
      "\n",
      "\n",
      "\n",
      "\n",
      "The top 20 words for Topic 4\n",
      "['harder', 'concerned', 'unable', 'visit', 'service', 'tested', 'certain', 'make', 'centres', 'care', 'risk', 'pregnant', '19covid', 'assessment', 'example', 'exposed', 'health', 'covid', '19', 'symptoms']\n",
      "\n",
      "\n",
      "\n",
      "\n",
      "The top 20 words for Topic 5\n",
      "['safest', 'trimester', 'general', 'studied', 'https', 'developing', 'unlikely', 'fever', 'infection', 'sheet', 'temperature', 'sheets', 'use', 'risks', 'risk', 'mothertobaby', 'paternal', 'fact', 'exposures', 'pregnancy']\n",
      "\n",
      "\n",
      "\n",
      "\n",
      "The top 20 words for Topic 6\n",
      "['limiting', 'occasion', 'public', 'agencies', 'particularly', 'infection', 'important', 'prevention', 'high', 'health', 'spread', 'large', 'joyous', 'quite', 'possible', 'shower', 'time', 'recommend', 'social', 'gatherings']\n",
      "\n",
      "\n",
      "\n",
      "\n",
      "The top 20 words for Topic 7\n",
      "['team', 'ask', 'fetal', 'appointments', 'use', 'home', 'feels', 'concerns', 'interval', 'women', 'pressure', 'facing', 'ensure', 'care', 'prenatal', 'obstetric', 'baby', 'obstetrician', 'visits', 'health']\n",
      "\n",
      "\n",
      "\n",
      "\n"
     ]
    }
   ],
   "source": [
    "# Grab the highest probability words per topic\n",
    "\n",
    "for i, topic in enumerate(LDA.components_):\n",
    "    print(f('The top 20 words for Topic {i}'))\n",
    "    print([cv.get_feature_names()[index] for index in topic.argsort()[-20:]])\n",
    "    print('\\n')\n",
    "    print('\\n')"
   ]
  },
  {
   "cell_type": "code",
   "execution_count": 52,
   "metadata": {},
   "outputs": [],
   "source": [
    "#now attached topic numbers to original articles"
   ]
  },
  {
   "cell_type": "code",
   "execution_count": 53,
   "metadata": {},
   "outputs": [],
   "source": [
    "topic_results = LDA.transform(dtm)"
   ]
  },
  {
   "cell_type": "code",
   "execution_count": 54,
   "metadata": {},
   "outputs": [
    {
     "data": {
      "text/plain": [
       "(19, 8)"
      ]
     },
     "execution_count": 54,
     "metadata": {},
     "output_type": "execute_result"
    }
   ],
   "source": [
    "topic_results.shape #number of articles with probabilities of each topic"
   ]
  },
  {
   "cell_type": "code",
   "execution_count": 55,
   "metadata": {},
   "outputs": [
    {
     "data": {
      "text/plain": [
       "array([0.01, 0.01, 0.94, 0.01, 0.01, 0.01, 0.01, 0.01])"
      ]
     },
     "execution_count": 55,
     "metadata": {},
     "output_type": "execute_result"
    }
   ],
   "source": [
    "#get example topic results for document at index 1, rounded to 2 decimals\n",
    "topic_results[1].round(2)"
   ]
  },
  {
   "cell_type": "code",
   "execution_count": 56,
   "metadata": {},
   "outputs": [],
   "source": [
    "#now connect back to original dataframe\n",
    "#use ARGMAX to return index position of highest probability\n",
    "\n",
    "p_content['Topic'] = topic_results.argmax(axis = 1)"
   ]
  },
  {
   "cell_type": "code",
   "execution_count": 57,
   "metadata": {},
   "outputs": [
    {
     "data": {
      "text/html": [
       "<div>\n",
       "<style scoped>\n",
       "    .dataframe tbody tr th:only-of-type {\n",
       "        vertical-align: middle;\n",
       "    }\n",
       "\n",
       "    .dataframe tbody tr th {\n",
       "        vertical-align: top;\n",
       "    }\n",
       "\n",
       "    .dataframe thead th {\n",
       "        text-align: right;\n",
       "    }\n",
       "</style>\n",
       "<table border=\"1\" class=\"dataframe\">\n",
       "  <thead>\n",
       "    <tr style=\"text-align: right;\">\n",
       "      <th></th>\n",
       "      <th>Question</th>\n",
       "      <th>Answer</th>\n",
       "      <th>Topic</th>\n",
       "    </tr>\n",
       "  </thead>\n",
       "  <tbody>\n",
       "    <tr>\n",
       "      <th>0</th>\n",
       "      <td>What can I do to protect myself from catching ...</td>\n",
       "      <td>To protect yourself from catching coronavirus,...</td>\n",
       "      <td>3</td>\n",
       "    </tr>\n",
       "    <tr>\n",
       "      <th>1</th>\n",
       "      <td>Can I travel for my baby-moon?</td>\n",
       "      <td>We recommend avoiding all travel at this time,...</td>\n",
       "      <td>2</td>\n",
       "    </tr>\n",
       "    <tr>\n",
       "      <th>2</th>\n",
       "      <td>Should I reschedule my baby shower because of ...</td>\n",
       "      <td>While a baby shower is a joyous and important ...</td>\n",
       "      <td>6</td>\n",
       "    </tr>\n",
       "    <tr>\n",
       "      <th>3</th>\n",
       "      <td>What should I do if I have a fever or cough?</td>\n",
       "      <td>If you have a fever or cough, the first step i...</td>\n",
       "      <td>3</td>\n",
       "    </tr>\n",
       "    <tr>\n",
       "      <th>4</th>\n",
       "      <td>What if I’ve traveled from a place where the v...</td>\n",
       "      <td>The first step is to call your doctor’s office...</td>\n",
       "      <td>3</td>\n",
       "    </tr>\n",
       "    <tr>\n",
       "      <th>5</th>\n",
       "      <td>What is my risk of becoming very ill if I do h...</td>\n",
       "      <td>Given that this is a novel virus, little is kn...</td>\n",
       "      <td>2</td>\n",
       "    </tr>\n",
       "    <tr>\n",
       "      <th>6</th>\n",
       "      <td>Does becoming ill with COVID-19 increase risk ...</td>\n",
       "      <td>An increased risk of miscarriage or fetal malf...</td>\n",
       "      <td>2</td>\n",
       "    </tr>\n",
       "    <tr>\n",
       "      <th>7</th>\n",
       "      <td>If I become sick, what is the risk of passing ...</td>\n",
       "      <td>The risk of passing the infection to a fetus a...</td>\n",
       "      <td>2</td>\n",
       "    </tr>\n",
       "    <tr>\n",
       "      <th>8</th>\n",
       "      <td>Is it safe to take medicine if I have a temper...</td>\n",
       "      <td>If a woman has an infection with a high fever ...</td>\n",
       "      <td>5</td>\n",
       "    </tr>\n",
       "    <tr>\n",
       "      <th>9</th>\n",
       "      <td>Can I be tested for COVID-19?</td>\n",
       "      <td>If you’re worried you have COVID-19covid 19 or...</td>\n",
       "      <td>4</td>\n",
       "    </tr>\n",
       "    <tr>\n",
       "      <th>10</th>\n",
       "      <td>If a coronavirus vaccine comes out, can I take...</td>\n",
       "      <td>Although there is no vaccine available to prot...</td>\n",
       "      <td>3</td>\n",
       "    </tr>\n",
       "    <tr>\n",
       "      <th>11</th>\n",
       "      <td>Should I continue to have prenatal visits? I’m...</td>\n",
       "      <td>Prenatal visits are important to ensure matern...</td>\n",
       "      <td>7</td>\n",
       "    </tr>\n",
       "    <tr>\n",
       "      <th>12</th>\n",
       "      <td>I am worried that doctors, even obstetricians,...</td>\n",
       "      <td>Hospitals are responsible for making contingen...</td>\n",
       "      <td>1</td>\n",
       "    </tr>\n",
       "    <tr>\n",
       "      <th>13</th>\n",
       "      <td>I am worried about spending time in the hospit...</td>\n",
       "      <td>Hospital staff and your obstetric team are try...</td>\n",
       "      <td>1</td>\n",
       "    </tr>\n",
       "    <tr>\n",
       "      <th>14</th>\n",
       "      <td>If I test positive for COVID-19, can I breastf...</td>\n",
       "      <td>Currently, there is no evidence of the virus i...</td>\n",
       "      <td>3</td>\n",
       "    </tr>\n",
       "    <tr>\n",
       "      <th>15</th>\n",
       "      <td>Does having COVID-19 in pregnancy cause long-t...</td>\n",
       "      <td>There is not enough information to know about ...</td>\n",
       "      <td>2</td>\n",
       "    </tr>\n",
       "    <tr>\n",
       "      <th>16</th>\n",
       "      <td>Does having COVID-19 during pregnancy increase...</td>\n",
       "      <td>Studies have not been done to see if having CO...</td>\n",
       "      <td>4</td>\n",
       "    </tr>\n",
       "    <tr>\n",
       "      <th>17</th>\n",
       "      <td>Can having COVID-19 make it harder for me to g...</td>\n",
       "      <td>Miscarriage can occur in any pregnancy. Studie...</td>\n",
       "      <td>3</td>\n",
       "    </tr>\n",
       "    <tr>\n",
       "      <th>18</th>\n",
       "      <td>If a man has COVID-19, could it affect his fer...</td>\n",
       "      <td>This has not been studied. In general, exposur...</td>\n",
       "      <td>5</td>\n",
       "    </tr>\n",
       "  </tbody>\n",
       "</table>\n",
       "</div>"
      ],
      "text/plain": [
       "                                             Question  \\\n",
       "0   What can I do to protect myself from catching ...   \n",
       "1                      Can I travel for my baby-moon?   \n",
       "2   Should I reschedule my baby shower because of ...   \n",
       "3       What should I do if I have a fever or cough?    \n",
       "4   What if I’ve traveled from a place where the v...   \n",
       "5   What is my risk of becoming very ill if I do h...   \n",
       "6   Does becoming ill with COVID-19 increase risk ...   \n",
       "7   If I become sick, what is the risk of passing ...   \n",
       "8   Is it safe to take medicine if I have a temper...   \n",
       "9                       Can I be tested for COVID-19?   \n",
       "10  If a coronavirus vaccine comes out, can I take...   \n",
       "11  Should I continue to have prenatal visits? I’m...   \n",
       "12  I am worried that doctors, even obstetricians,...   \n",
       "13  I am worried about spending time in the hospit...   \n",
       "14  If I test positive for COVID-19, can I breastf...   \n",
       "15  Does having COVID-19 in pregnancy cause long-t...   \n",
       "16  Does having COVID-19 during pregnancy increase...   \n",
       "17  Can having COVID-19 make it harder for me to g...   \n",
       "18  If a man has COVID-19, could it affect his fer...   \n",
       "\n",
       "                                               Answer  Topic  \n",
       "0   To protect yourself from catching coronavirus,...      3  \n",
       "1   We recommend avoiding all travel at this time,...      2  \n",
       "2   While a baby shower is a joyous and important ...      6  \n",
       "3   If you have a fever or cough, the first step i...      3  \n",
       "4   The first step is to call your doctor’s office...      3  \n",
       "5   Given that this is a novel virus, little is kn...      2  \n",
       "6   An increased risk of miscarriage or fetal malf...      2  \n",
       "7   The risk of passing the infection to a fetus a...      2  \n",
       "8   If a woman has an infection with a high fever ...      5  \n",
       "9   If you’re worried you have COVID-19covid 19 or...      4  \n",
       "10  Although there is no vaccine available to prot...      3  \n",
       "11  Prenatal visits are important to ensure matern...      7  \n",
       "12  Hospitals are responsible for making contingen...      1  \n",
       "13  Hospital staff and your obstetric team are try...      1  \n",
       "14  Currently, there is no evidence of the virus i...      3  \n",
       "15  There is not enough information to know about ...      2  \n",
       "16  Studies have not been done to see if having CO...      4  \n",
       "17  Miscarriage can occur in any pregnancy. Studie...      3  \n",
       "18  This has not been studied. In general, exposur...      5  "
      ]
     },
     "execution_count": 57,
     "metadata": {},
     "output_type": "execute_result"
    }
   ],
   "source": [
    "p_content.head(21)"
   ]
  },
  {
   "cell_type": "code",
   "execution_count": 58,
   "metadata": {},
   "outputs": [],
   "source": [
    "#create a dictionary of topics\n",
    "\n",
    "my_topic_dict = {0:'research', 1:'visiting the hospital', 2:'prenatal risks', 3:'transmission', 4:'testing', 5:'increased risks', 6: 'baby shower', 7: 'prenatal care'}\n",
    "p_content['Topic_Label'] = p_content['Topic'].map(my_topic_dict)"
   ]
  },
  {
   "cell_type": "code",
   "execution_count": 59,
   "metadata": {},
   "outputs": [
    {
     "data": {
      "text/html": [
       "<div>\n",
       "<style scoped>\n",
       "    .dataframe tbody tr th:only-of-type {\n",
       "        vertical-align: middle;\n",
       "    }\n",
       "\n",
       "    .dataframe tbody tr th {\n",
       "        vertical-align: top;\n",
       "    }\n",
       "\n",
       "    .dataframe thead th {\n",
       "        text-align: right;\n",
       "    }\n",
       "</style>\n",
       "<table border=\"1\" class=\"dataframe\">\n",
       "  <thead>\n",
       "    <tr style=\"text-align: right;\">\n",
       "      <th></th>\n",
       "      <th>Question</th>\n",
       "      <th>Answer</th>\n",
       "      <th>Topic</th>\n",
       "      <th>Topic_Label</th>\n",
       "    </tr>\n",
       "  </thead>\n",
       "  <tbody>\n",
       "    <tr>\n",
       "      <th>0</th>\n",
       "      <td>What can I do to protect myself from catching ...</td>\n",
       "      <td>To protect yourself from catching coronavirus,...</td>\n",
       "      <td>3</td>\n",
       "      <td>transmission</td>\n",
       "    </tr>\n",
       "    <tr>\n",
       "      <th>1</th>\n",
       "      <td>Can I travel for my baby-moon?</td>\n",
       "      <td>We recommend avoiding all travel at this time,...</td>\n",
       "      <td>2</td>\n",
       "      <td>prenatal risks</td>\n",
       "    </tr>\n",
       "    <tr>\n",
       "      <th>2</th>\n",
       "      <td>Should I reschedule my baby shower because of ...</td>\n",
       "      <td>While a baby shower is a joyous and important ...</td>\n",
       "      <td>6</td>\n",
       "      <td>baby shower</td>\n",
       "    </tr>\n",
       "    <tr>\n",
       "      <th>3</th>\n",
       "      <td>What should I do if I have a fever or cough?</td>\n",
       "      <td>If you have a fever or cough, the first step i...</td>\n",
       "      <td>3</td>\n",
       "      <td>transmission</td>\n",
       "    </tr>\n",
       "    <tr>\n",
       "      <th>4</th>\n",
       "      <td>What if I’ve traveled from a place where the v...</td>\n",
       "      <td>The first step is to call your doctor’s office...</td>\n",
       "      <td>3</td>\n",
       "      <td>transmission</td>\n",
       "    </tr>\n",
       "  </tbody>\n",
       "</table>\n",
       "</div>"
      ],
      "text/plain": [
       "                                            Question  \\\n",
       "0  What can I do to protect myself from catching ...   \n",
       "1                     Can I travel for my baby-moon?   \n",
       "2  Should I reschedule my baby shower because of ...   \n",
       "3      What should I do if I have a fever or cough?    \n",
       "4  What if I’ve traveled from a place where the v...   \n",
       "\n",
       "                                              Answer  Topic     Topic_Label  \n",
       "0  To protect yourself from catching coronavirus,...      3    transmission  \n",
       "1  We recommend avoiding all travel at this time,...      2  prenatal risks  \n",
       "2  While a baby shower is a joyous and important ...      6     baby shower  \n",
       "3  If you have a fever or cough, the first step i...      3    transmission  \n",
       "4  The first step is to call your doctor’s office...      3    transmission  "
      ]
     },
     "execution_count": 59,
     "metadata": {},
     "output_type": "execute_result"
    }
   ],
   "source": [
    "p_content.head()"
   ]
  },
  {
   "cell_type": "code",
   "execution_count": 60,
   "metadata": {},
   "outputs": [
    {
     "data": {
      "text/html": [
       "<div>\n",
       "<style scoped>\n",
       "    .dataframe tbody tr th:only-of-type {\n",
       "        vertical-align: middle;\n",
       "    }\n",
       "\n",
       "    .dataframe tbody tr th {\n",
       "        vertical-align: top;\n",
       "    }\n",
       "\n",
       "    .dataframe thead th {\n",
       "        text-align: right;\n",
       "    }\n",
       "</style>\n",
       "<table border=\"1\" class=\"dataframe\">\n",
       "  <thead>\n",
       "    <tr style=\"text-align: right;\">\n",
       "      <th></th>\n",
       "      <th>Question</th>\n",
       "      <th>Topic_Label</th>\n",
       "    </tr>\n",
       "  </thead>\n",
       "  <tbody>\n",
       "    <tr>\n",
       "      <th>0</th>\n",
       "      <td>What can I do to protect myself from catching ...</td>\n",
       "      <td>transmission</td>\n",
       "    </tr>\n",
       "    <tr>\n",
       "      <th>1</th>\n",
       "      <td>Can I travel for my baby-moon?</td>\n",
       "      <td>prenatal risks</td>\n",
       "    </tr>\n",
       "    <tr>\n",
       "      <th>2</th>\n",
       "      <td>Should I reschedule my baby shower because of ...</td>\n",
       "      <td>baby shower</td>\n",
       "    </tr>\n",
       "    <tr>\n",
       "      <th>3</th>\n",
       "      <td>What should I do if I have a fever or cough?</td>\n",
       "      <td>transmission</td>\n",
       "    </tr>\n",
       "    <tr>\n",
       "      <th>4</th>\n",
       "      <td>What if I’ve traveled from a place where the v...</td>\n",
       "      <td>transmission</td>\n",
       "    </tr>\n",
       "  </tbody>\n",
       "</table>\n",
       "</div>"
      ],
      "text/plain": [
       "                                            Question     Topic_Label\n",
       "0  What can I do to protect myself from catching ...    transmission\n",
       "1                     Can I travel for my baby-moon?  prenatal risks\n",
       "2  Should I reschedule my baby shower because of ...     baby shower\n",
       "3      What should I do if I have a fever or cough?     transmission\n",
       "4  What if I’ve traveled from a place where the v...    transmission"
      ]
     },
     "execution_count": 60,
     "metadata": {},
     "output_type": "execute_result"
    }
   ],
   "source": [
    "dictionary_df = p_content[['Question','Topic_Label']].copy()\n",
    "dictionary_df.head()"
   ]
  },
  {
   "cell_type": "code",
   "execution_count": 61,
   "metadata": {},
   "outputs": [],
   "source": [
    "grouped_answers = dictionary_df.groupby('Topic_Label')"
   ]
  },
  {
   "cell_type": "code",
   "execution_count": 63,
   "metadata": {},
   "outputs": [
    {
     "data": {
      "text/plain": [
       "pandas.core.groupby.DataFrameGroupBy"
      ]
     },
     "execution_count": 63,
     "metadata": {},
     "output_type": "execute_result"
    }
   ],
   "source": [
    "type(grouped_answers)"
   ]
  },
  {
   "cell_type": "code",
   "execution_count": 69,
   "metadata": {},
   "outputs": [],
   "source": [
    "topic_q_dict = grouped_answers['Question'].apply(lambda s: s.tolist()).to_dict()"
   ]
  },
  {
   "cell_type": "code",
   "execution_count": 70,
   "metadata": {},
   "outputs": [
    {
     "data": {
      "text/plain": [
       "dict"
      ]
     },
     "execution_count": 70,
     "metadata": {},
     "output_type": "execute_result"
    }
   ],
   "source": [
    "type(topic_q_dict)"
   ]
  },
  {
   "cell_type": "code",
   "execution_count": 71,
   "metadata": {},
   "outputs": [
    {
     "name": "stdout",
     "output_type": "stream",
     "text": [
      "increased risks -> ['Is it safe to take medicine if I have a temperature?', 'If a man has COVID-19, could it affect his fertility (ability to get partner pregnant) or increase the chance of birth defects?']\n",
      "prenatal risks -> ['Can I travel for my baby-moon?', 'What is my risk of becoming very ill if I do have COVID-19?', 'Does becoming ill with COVID-19 increase risk of miscarriage or other complications?', 'If I become sick, what is the risk of passing the virus on to my fetus or newborn?', 'Does having COVID-19 in pregnancy cause long-term problems in behavior or learning for the baby?']\n",
      "transmission -> ['What can I do to protect myself from catching the coronavirus?', 'What should I do if I have a fever or cough? ', 'What if I’ve traveled from a place where the virus is widespread or have been in contact with a person confirmed to have COVID-19?', 'If a coronavirus vaccine comes out, can I take it when pregnant?', 'If I test positive for COVID-19, can I breastfeed my baby?', 'Can having COVID-19 make it harder for me to get pregnant']\n",
      "prenatal care -> ['Should I continue to have prenatal visits? I’m worried about being exposed to COVID-19.']\n",
      "baby shower -> ['Should I reschedule my baby shower because of the coronavirus?']\n",
      "visiting the hospital -> ['I am worried that doctors, even obstetricians, will be diverted in an emergency setting and may not be available when I am delivering. Will that be the case', 'I am worried about spending time in the hospital after delivery. Could this increase my risk of exposure to COVID-19?']\n",
      "testing -> ['Can I be tested for COVID-19?', 'Does having COVID-19 during pregnancy increase the chance for miscarriage?']\n"
     ]
    }
   ],
   "source": [
    "for key, value in topic_q_dict.items():\n",
    "  print(key, '->', value)\n"
   ]
  },
  {
   "cell_type": "code",
   "execution_count": 79,
   "metadata": {},
   "outputs": [
    {
     "name": "stdout",
     "output_type": "stream",
     "text": [
      "Saved None: ['Is it safe to take medicine if I have a temperature?', 'If a man has COVID-19, could it affect his fertility (ability to get partner pregnant) or increase the chance of birth defects?']\n",
      "\n",
      "\n",
      "Saved None: ['Can I travel for my baby-moon?', 'What is my risk of becoming very ill if I do have COVID-19?', 'Does becoming ill with COVID-19 increase risk of miscarriage or other complications?', 'If I become sick, what is the risk of passing the virus on to my fetus or newborn?', 'Does having COVID-19 in pregnancy cause long-term problems in behavior or learning for the baby?']\n",
      "\n",
      "\n",
      "Saved None: ['What can I do to protect myself from catching the coronavirus?', 'What should I do if I have a fever or cough? ', 'What if I’ve traveled from a place where the virus is widespread or have been in contact with a person confirmed to have COVID-19?', 'If a coronavirus vaccine comes out, can I take it when pregnant?', 'If I test positive for COVID-19, can I breastfeed my baby?', 'Can having COVID-19 make it harder for me to get pregnant']\n",
      "\n",
      "\n",
      "Saved None: ['Should I continue to have prenatal visits? I’m worried about being exposed to COVID-19.']\n",
      "\n",
      "\n",
      "Saved None: ['Should I reschedule my baby shower because of the coronavirus?']\n",
      "\n",
      "\n",
      "Saved None: ['I am worried that doctors, even obstetricians, will be diverted in an emergency setting and may not be available when I am delivering. Will that be the case', 'I am worried about spending time in the hospital after delivery. Could this increase my risk of exposure to COVID-19?']\n",
      "\n",
      "\n",
      "Saved None: ['Can I be tested for COVID-19?', 'Does having COVID-19 during pregnancy increase the chance for miscarriage?']\n",
      "\n",
      "\n"
     ]
    }
   ],
   "source": [
    "for k, value in topic_q_dict.items():\n",
    "    kind = k\n",
    "    topic_key = datastore_client.key(kind)\n",
    "    \n",
    "    topic = datastore.Entity(key=topic_key)\n",
    "    topic['action_text'] = value\n",
    "\n",
    "    datastore_client.put(topic)\n",
    "    \n",
    "    print('Saved {}: {}'.format(topic.key.name, topic['action_text']))\n",
    "    print('\\n')"
   ]
  },
  {
   "cell_type": "code",
   "execution_count": null,
   "metadata": {},
   "outputs": [],
   "source": []
  }
 ],
 "metadata": {
  "kernelspec": {
   "display_name": "Python 3",
   "language": "python",
   "name": "python3"
  },
  "language_info": {
   "codemirror_mode": {
    "name": "ipython",
    "version": 3
   },
   "file_extension": ".py",
   "mimetype": "text/x-python",
   "name": "python",
   "nbconvert_exporter": "python",
   "pygments_lexer": "ipython3",
   "version": "3.5.6"
  }
 },
 "nbformat": 4,
 "nbformat_minor": 2
}
