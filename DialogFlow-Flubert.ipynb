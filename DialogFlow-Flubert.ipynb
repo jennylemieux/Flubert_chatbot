{
 "cells": [
  {
   "cell_type": "code",
   "execution_count": 1,
   "metadata": {},
   "outputs": [
    {
     "name": "stdout",
     "output_type": "stream",
     "text": [
      "Collecting pip\n",
      "\u001b[?25l  Downloading https://files.pythonhosted.org/packages/43/84/23ed6a1796480a6f1a2d38f2802901d078266bda38388954d01d3f2e821d/pip-20.1.1-py2.py3-none-any.whl (1.5MB)\n",
      "\u001b[K    100% |████████████████████████████████| 1.5MB 7.0MB/s eta 0:00:01\n",
      "\u001b[?25hInstalling collected packages: pip\n",
      "  Found existing installation: pip 18.1\n",
      "    Uninstalling pip-18.1:\n",
      "      Successfully uninstalled pip-18.1\n",
      "Successfully installed pip-20.1.1\n",
      "\u001b[33mDEPRECATION: Python 2.7 reached the end of its life on January 1st, 2020. Please upgrade your Python as Python 2.7 is no longer maintained. pip 21.0 will drop support for Python 2.7 in January 2021. More details about Python 2 support in pip, can be found at https://pip.pypa.io/en/latest/development/release-process/#python-2-support\u001b[0m\n",
      "\u001b[33mWARNING: Skipping dialogflow as it is not installed.\u001b[0m\n",
      "yes: standard output: Broken pipe\n",
      "\u001b[33mDEPRECATION: Python 2.7 reached the end of its life on January 1st, 2020. Please upgrade your Python as Python 2.7 is no longer maintained. pip 21.0 will drop support for Python 2.7 in January 2021. More details about Python 2 support in pip, can be found at https://pip.pypa.io/en/latest/development/release-process/#python-2-support\u001b[0m\n",
      "Collecting dialogflow==0.3.0\n",
      "  Downloading dialogflow-0.3.0.tar.gz (170 kB)\n",
      "\u001b[K     |████████████████████████████████| 170 kB 3.3 MB/s eta 0:00:01\n",
      "\u001b[?25hRequirement already satisfied: google-api-core[grpc]<2.0.0dev,>=0.1.4 in /usr/local/envs/py2env/lib/python2.7/site-packages (from dialogflow==0.3.0) (1.21.0)\n",
      "Requirement already satisfied: googleapis-common-protos[grpc]<2.0dev,>=1.5.2 in /usr/local/envs/py2env/lib/python2.7/site-packages (from dialogflow==0.3.0) (1.52.0)\n",
      "Requirement already satisfied: futures>=3.2.0; python_version < \"3.2\" in /usr/local/envs/py2env/lib/python2.7/site-packages (from google-api-core[grpc]<2.0.0dev,>=0.1.4->dialogflow==0.3.0) (3.2.0)\n",
      "Requirement already satisfied: requests<3.0.0dev,>=2.18.0 in /usr/local/envs/py2env/lib/python2.7/site-packages (from google-api-core[grpc]<2.0.0dev,>=0.1.4->dialogflow==0.3.0) (2.18.4)\n",
      "Requirement already satisfied: setuptools>=34.0.0 in /usr/local/envs/py2env/lib/python2.7/site-packages (from google-api-core[grpc]<2.0.0dev,>=0.1.4->dialogflow==0.3.0) (41.0.1)\n",
      "Requirement already satisfied: protobuf>=3.12.0 in /usr/local/envs/py2env/lib/python2.7/site-packages (from google-api-core[grpc]<2.0.0dev,>=0.1.4->dialogflow==0.3.0) (3.12.2)\n",
      "Requirement already satisfied: six>=1.10.0 in /usr/local/envs/py2env/lib/python2.7/site-packages (from google-api-core[grpc]<2.0.0dev,>=0.1.4->dialogflow==0.3.0) (1.10.0)\n",
      "Requirement already satisfied: google-auth<2.0dev,>=1.18.0 in /usr/local/envs/py2env/lib/python2.7/site-packages (from google-api-core[grpc]<2.0.0dev,>=0.1.4->dialogflow==0.3.0) (1.18.0)\n",
      "Requirement already satisfied: pytz in /usr/local/envs/py2env/lib/python2.7/site-packages (from google-api-core[grpc]<2.0.0dev,>=0.1.4->dialogflow==0.3.0) (2018.4)\n",
      "Requirement already satisfied: grpcio<2.0dev,>=1.29.0; extra == \"grpc\" in /usr/local/envs/py2env/lib/python2.7/site-packages (from google-api-core[grpc]<2.0.0dev,>=0.1.4->dialogflow==0.3.0) (1.30.0)\n",
      "Requirement already satisfied: chardet<3.1.0,>=3.0.2 in /usr/local/envs/py2env/lib/python2.7/site-packages (from requests<3.0.0dev,>=2.18.0->google-api-core[grpc]<2.0.0dev,>=0.1.4->dialogflow==0.3.0) (3.0.4)\n",
      "Requirement already satisfied: idna<2.7,>=2.5 in /usr/local/envs/py2env/lib/python2.7/site-packages (from requests<3.0.0dev,>=2.18.0->google-api-core[grpc]<2.0.0dev,>=0.1.4->dialogflow==0.3.0) (2.6)\n",
      "Requirement already satisfied: urllib3<1.23,>=1.21.1 in /usr/local/envs/py2env/lib/python2.7/site-packages (from requests<3.0.0dev,>=2.18.0->google-api-core[grpc]<2.0.0dev,>=0.1.4->dialogflow==0.3.0) (1.22)\n",
      "Requirement already satisfied: certifi>=2017.4.17 in /usr/local/envs/py2env/lib/python2.7/site-packages (from requests<3.0.0dev,>=2.18.0->google-api-core[grpc]<2.0.0dev,>=0.1.4->dialogflow==0.3.0) (2019.11.28)\n",
      "Requirement already satisfied: rsa<4.1; python_version < \"3\" in /usr/local/envs/py2env/lib/python2.7/site-packages (from google-auth<2.0dev,>=1.18.0->google-api-core[grpc]<2.0.0dev,>=0.1.4->dialogflow==0.3.0) (3.4.2)\n",
      "Requirement already satisfied: cachetools<5.0,>=2.0.0 in /usr/local/envs/py2env/lib/python2.7/site-packages (from google-auth<2.0dev,>=1.18.0->google-api-core[grpc]<2.0.0dev,>=0.1.4->dialogflow==0.3.0) (2.1.0)\n",
      "Requirement already satisfied: pyasn1-modules>=0.2.1 in /usr/local/envs/py2env/lib/python2.7/site-packages (from google-auth<2.0dev,>=1.18.0->google-api-core[grpc]<2.0.0dev,>=0.1.4->dialogflow==0.3.0) (0.2.4)\n",
      "Requirement already satisfied: enum34>=1.0.4; python_version < \"3.4\" in /usr/local/envs/py2env/lib/python2.7/site-packages (from grpcio<2.0dev,>=1.29.0; extra == \"grpc\"->google-api-core[grpc]<2.0.0dev,>=0.1.4->dialogflow==0.3.0) (1.1.6)\n",
      "Requirement already satisfied: pyasn1>=0.1.3 in /usr/local/envs/py2env/lib/python2.7/site-packages (from rsa<4.1; python_version < \"3\"->google-auth<2.0dev,>=1.18.0->google-api-core[grpc]<2.0.0dev,>=0.1.4->dialogflow==0.3.0) (0.4.5)\n",
      "Building wheels for collected packages: dialogflow\n",
      "  Building wheel for dialogflow (setup.py) ... \u001b[?25ldone\n",
      "\u001b[?25h  Created wheel for dialogflow: filename=dialogflow-0.3.0-py2.py3-none-any.whl size=220126 sha256=52fd9aaf5d54678acfe52050a25af8174438fd3a462dc18c32adc45463f806ea\n",
      "  Stored in directory: /content/.cache/pip/wheels/a6/e4/41/e70be94e2e0cdfffab860ac5332af06a56eb3224cba5e81258\n",
      "Successfully built dialogflow\n",
      "Installing collected packages: dialogflow\n",
      "Successfully installed dialogflow-0.3.0\n"
     ]
    }
   ],
   "source": [
    "!pip install --upgrade pip\n",
    "!yes | pip uninstall dialogflow\n",
    "!pip install dialogflow==0.3.0"
   ]
  },
  {
   "cell_type": "code",
   "execution_count": 8,
   "metadata": {},
   "outputs": [],
   "source": [
    "from google.cloud import datastore\n",
    "\n",
    "client = datastore.Client()\n",
    "query = client.query(kind='prenatal care')\n",
    "results = list(query.fetch())"
   ]
  },
  {
   "cell_type": "code",
   "execution_count": 9,
   "metadata": {},
   "outputs": [
    {
     "name": "stdout",
     "output_type": "stream",
     "text": [
      "[value: \"prenatal care\"\n",
      "synonyms: \"prenatal care\"\n",
      "]\n",
      "Entity created: <google.api_core.operation.Operation object at 0x7f3b30313490>\n"
     ]
    }
   ],
   "source": [
    "import dialogflow\n",
    "\n",
    "entity_types_client = dialogflow.EntityTypesClient()\n",
    "\n",
    "project_id = !(gcloud config get-value project)\n",
    "\n",
    "project_agent_path = entity_types_client.project_agent_path(\n",
    "        project_id[0])\n",
    "\n",
    "for element in entity_types_client.list_entity_types(project_agent_path):\n",
    "  if (element.display_name == 'prenatal_care'):\n",
    "    entity_type_path = element.name\n",
    "\n",
    "project_id = !(gcloud config get-value project)\n",
    "\n",
    "entities = []\n",
    "\n",
    "for result in results:\n",
    "  \n",
    "  entity = dialogflow.types.EntityType.Entity()\n",
    "  entity.value = result.kind\n",
    "  entity.synonyms.append(result.kind)\n",
    "\n",
    "  entities.append(entity)\n",
    "\n",
    "print entities\n",
    "\n",
    "response = entity_types_client.batch_create_entities(entity_type_path, entities)\n",
    "\n",
    "print('Entity created: {}'.format(response))"
   ]
  },
  {
   "cell_type": "code",
   "execution_count": null,
   "metadata": {},
   "outputs": [],
   "source": []
  }
 ],
 "metadata": {
  "kernelspec": {
   "display_name": "Python 2",
   "language": "python",
   "name": "python2"
  },
  "language_info": {
   "codemirror_mode": {
    "name": "ipython",
    "version": 2
   },
   "file_extension": ".py",
   "mimetype": "text/x-python",
   "name": "python",
   "nbconvert_exporter": "python",
   "pygments_lexer": "ipython2",
   "version": "2.7.15"
  }
 },
 "nbformat": 4,
 "nbformat_minor": 2
}
